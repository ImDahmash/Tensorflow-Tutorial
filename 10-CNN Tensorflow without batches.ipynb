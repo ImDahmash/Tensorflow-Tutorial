{
 "cells": [
  {
   "cell_type": "code",
   "execution_count": 1,
   "metadata": {},
   "outputs": [],
   "source": [
    "import tensorflow as tf\n",
    "from tensorflow import keras"
   ]
  },
  {
   "cell_type": "code",
   "execution_count": 2,
   "metadata": {},
   "outputs": [],
   "source": [
    "from tensorflow.keras.datasets import mnist\n",
    "import matplotlib.pyplot as plt\n",
    "import numpy as np"
   ]
  },
  {
   "cell_type": "code",
   "execution_count": 3,
   "metadata": {},
   "outputs": [],
   "source": [
    "def conv_layer(input, size_in, size_out):\n",
    "    w = tf.Variable(tf.truncated_normal([5, 5, size_in, size_out], stddev=0.1))\n",
    "    b = tf.Variable(tf.constant(0.1, shape=[size_out]))\n",
    "    conv = tf.nn.conv2d(input, w, strides=[1, 1, 1, 1], padding=\"SAME\")\n",
    "    act = tf.nn.relu(conv + b)\n",
    "    return tf.nn.max_pool(act, ksize=[1, 2, 2, 1], strides=[1, 2, 2, 1], padding=\"SAME\")"
   ]
  },
  {
   "cell_type": "code",
   "execution_count": 4,
   "metadata": {},
   "outputs": [],
   "source": [
    "def fc_layer(input, size_in, size_out):\n",
    "    w = tf.Variable(tf.truncated_normal([size_in, size_out], stddev=0.1))\n",
    "    b = tf.Variable(tf.constant(0.1, shape=[size_out]))\n",
    "    act = tf.matmul(input, w) + b\n",
    "    return act"
   ]
  },
  {
   "cell_type": "code",
   "execution_count": 5,
   "metadata": {},
   "outputs": [],
   "source": [
    "(x_train, y_train), (x_test, y_test) = mnist.load_data()"
   ]
  },
  {
   "cell_type": "code",
   "execution_count": 6,
   "metadata": {},
   "outputs": [],
   "source": [
    "train_size = 4000\n",
    "x_train = x_train[0: train_size]\n",
    "y_train = y_train[0: train_size]"
   ]
  },
  {
   "cell_type": "code",
   "execution_count": 7,
   "metadata": {},
   "outputs": [],
   "source": [
    "x_train = x_train.astype('float32')\n",
    "x_test = x_test.astype('float32')\n",
    "y_train = y_train.astype('int64')\n",
    "y_test = y_test.astype('int64')\n",
    "x_train /= 255\n",
    "x_test /= 255"
   ]
  },
  {
   "cell_type": "code",
   "execution_count": 8,
   "metadata": {},
   "outputs": [],
   "source": [
    "x = tf.placeholder(tf.float32, shape=[train_size, 784])\n",
    "x_image = tf.reshape(x, [train_size, 28, 28, 1])\n",
    "\n",
    "y = tf.placeholder(tf.int64, shape=[train_size])"
   ]
  },
  {
   "cell_type": "code",
   "execution_count": 9,
   "metadata": {},
   "outputs": [],
   "source": [
    "conv1 = conv_layer(x_image, 1, 32)\n",
    "conv_out = conv_layer(conv1, 32, 64)"
   ]
  },
  {
   "cell_type": "code",
   "execution_count": 10,
   "metadata": {},
   "outputs": [],
   "source": [
    "flattened = tf.reshape(conv_out, [train_size, 7 * 7 * 64])"
   ]
  },
  {
   "cell_type": "code",
   "execution_count": 11,
   "metadata": {},
   "outputs": [],
   "source": [
    "fc1 = fc_layer(flattened, 7 * 7 * 64, 1024)\n",
    "relu = tf.nn.relu(fc1)"
   ]
  },
  {
   "cell_type": "code",
   "execution_count": 12,
   "metadata": {},
   "outputs": [],
   "source": [
    "logits = fc_layer(relu, 1024, 10)\n",
    "softmax = tf.nn.softmax(logits)"
   ]
  },
  {
   "cell_type": "code",
   "execution_count": 13,
   "metadata": {},
   "outputs": [],
   "source": [
    "matches = tf.equal(tf.argmax(softmax, 1), y)\n",
    "acc = tf.reduce_mean(tf.cast(matches, tf.float32))"
   ]
  },
  {
   "cell_type": "code",
   "execution_count": 14,
   "metadata": {},
   "outputs": [],
   "source": [
    "loss = tf.reduce_mean(tf.nn.sparse_softmax_cross_entropy_with_logits(logits=logits, labels=y))"
   ]
  },
  {
   "cell_type": "code",
   "execution_count": 15,
   "metadata": {},
   "outputs": [],
   "source": [
    "train_op = tf.train.AdamOptimizer(0.001).minimize(loss)"
   ]
  },
  {
   "cell_type": "code",
   "execution_count": 16,
   "metadata": {},
   "outputs": [],
   "source": [
    "init = tf.global_variables_initializer()"
   ]
  },
  {
   "cell_type": "code",
   "execution_count": 17,
   "metadata": {},
   "outputs": [],
   "source": [
    "saver = tf.train.Saver()"
   ]
  },
  {
   "cell_type": "code",
   "execution_count": 18,
   "metadata": {},
   "outputs": [
    {
     "name": "stdout",
     "output_type": "stream",
     "text": [
      "Epoch No: 1 of 25\n",
      "Loss: 6.99432 Accuracy: 0.067\n",
      "\n",
      "\n",
      "Epoch No: 2 of 25\n",
      "Loss: 10.499946 Accuracy: 0.15675\n",
      "\n",
      "\n",
      "Epoch No: 3 of 25\n",
      "Loss: 13.418692 Accuracy: 0.156\n",
      "\n",
      "\n",
      "Epoch No: 4 of 25\n",
      "Loss: 13.965055 Accuracy: 0.17625\n",
      "\n",
      "\n",
      "Epoch No: 5 of 25\n",
      "Loss: 10.364614 Accuracy: 0.17925\n",
      "\n",
      "\n",
      "Epoch No: 6 of 25\n",
      "Loss: 7.2473583 Accuracy: 0.22\n",
      "\n",
      "\n",
      "Epoch No: 7 of 25\n",
      "Loss: 5.1600723 Accuracy: 0.235\n",
      "\n",
      "\n",
      "Epoch No: 8 of 25\n",
      "Loss: 3.9770806 Accuracy: 0.238\n",
      "\n",
      "\n",
      "Epoch No: 9 of 25\n",
      "Loss: 2.5045686 Accuracy: 0.364\n",
      "\n",
      "\n",
      "Epoch No: 10 of 25\n",
      "Loss: 1.7188823 Accuracy: 0.49775\n",
      "\n",
      "\n",
      "Epoch No: 11 of 25\n",
      "Loss: 1.5297875 Accuracy: 0.4925\n",
      "\n",
      "\n",
      "Epoch No: 12 of 25\n",
      "Loss: 1.4954963 Accuracy: 0.479\n",
      "\n",
      "\n",
      "Epoch No: 13 of 25\n",
      "Loss: 1.5053948 Accuracy: 0.48425\n",
      "\n",
      "\n",
      "Epoch No: 14 of 25\n",
      "Loss: 1.4893423 Accuracy: 0.47625\n",
      "\n",
      "\n",
      "Epoch No: 15 of 25\n",
      "Loss: 1.3793554 Accuracy: 0.51275\n",
      "\n",
      "\n",
      "Epoch No: 16 of 25\n",
      "Loss: 1.2061155 Accuracy: 0.6205\n",
      "\n",
      "\n",
      "Epoch No: 17 of 25\n",
      "Loss: 1.0297024 Accuracy: 0.73825\n",
      "\n",
      "\n",
      "Epoch No: 18 of 25\n",
      "Loss: 0.88865054 Accuracy: 0.79525\n",
      "\n",
      "\n",
      "Epoch No: 19 of 25\n",
      "Loss: 0.78903383 Accuracy: 0.814\n",
      "\n",
      "\n",
      "Epoch No: 20 of 25\n",
      "Loss: 0.7229513 Accuracy: 0.82075\n",
      "\n",
      "\n",
      "Epoch No: 21 of 25\n",
      "Loss: 0.6728053 Accuracy: 0.82475\n",
      "\n",
      "\n",
      "Epoch No: 22 of 25\n",
      "Loss: 0.61747247 Accuracy: 0.83225\n",
      "\n",
      "\n",
      "Epoch No: 23 of 25\n",
      "Loss: 0.5481663 Accuracy: 0.85725\n",
      "\n",
      "\n",
      "Epoch No: 24 of 25\n",
      "Loss: 0.47278908 Accuracy: 0.88225\n",
      "\n",
      "\n",
      "Epoch No: 25 of 25\n",
      "Loss: 0.40721348 Accuracy: 0.89425\n",
      "\n",
      "\n"
     ]
    }
   ],
   "source": [
    "with tf.Session() as sess:\n",
    "    sess.run(init)\n",
    "    \n",
    "    losses = []\n",
    "    accuracies = []\n",
    "    epochs = 25\n",
    "    \n",
    "    for i in range(epochs):\n",
    "        loss_, _, acc_ = sess.run([loss, train_op, acc], feed_dict={x: x_train.reshape(train_size, 784), y: y_train})\n",
    "        losses.append(loss_)\n",
    "        accuracies.append(acc_)\n",
    "        print(\"Epoch No: \" + str(i + 1) + \" of \" + str(epochs))\n",
    "        print(\"Loss: \" + str(loss_) + \" Accuracy: \" + str(acc_))\n",
    "        print(\"\\n\")\n",
    "        \n",
    "    saver.save(sess, \"./log/CNN_TF_without_batches.ckpt\")"
   ]
  },
  {
   "cell_type": "code",
   "execution_count": 19,
   "metadata": {},
   "outputs": [
    {
     "data": {
      "image/png": "[encoded data removed]",
      "text/plain": [
       "<Figure size 432x288 with 1 Axes>"
      ]
     },
     "metadata": {
      "needs_background": "light"
     },
     "output_type": "display_data"
    }
   ],
   "source": [
    "plt.plot(losses)\n",
    "plt.show()"
   ]
  },
  {
   "cell_type": "code",
   "execution_count": 20,
   "metadata": {},
   "outputs": [
    {
     "data": {
      "image/png": "[encoded data removed]",
      "text/plain": [
       "<Figure size 432x288 with 1 Axes>"
      ]
     },
     "metadata": {
      "needs_background": "light"
     },
     "output_type": "display_data"
    }
   ],
   "source": [
    "plt.plot(accuracies)\n",
    "plt.show()"
   ]
  },
  {
   "cell_type": "code",
   "execution_count": 21,
   "metadata": {},
   "outputs": [],
   "source": [
    "x_test = x_test[0: train_size]"
   ]
  },
  {
   "cell_type": "code",
   "execution_count": 22,
   "metadata": {},
   "outputs": [
    {
     "name": "stdout",
     "output_type": "stream",
     "text": [
      "INFO:tensorflow:Restoring parameters from ./log/CNN_TF_without_batches.ckpt\n",
      "7 - 7\n",
      "2 - 2\n",
      "1 - 1\n",
      "0 - 0\n",
      "4 - 4\n",
      "1 - 1\n",
      "4 - 4\n",
      "9 - 9\n",
      "5 - 5\n",
      "9 - 9\n",
      "0 - 0\n",
      "6 - 6\n",
      "9 - 9\n",
      "0 - 0\n",
      "1 - 1\n",
      "5 - 5\n",
      "9 - 9\n",
      "7 - 7\n",
      "2 - 3\n",
      "4 - 4\n"
     ]
    }
   ],
   "source": [
    "with tf.Session() as sess:\n",
    "    saver.restore(sess, \"./log/CNN_TF_without_batches.ckpt\")\n",
    "    \n",
    "    y_pred = sess.run(softmax, feed_dict={x: x_test.reshape(train_size, 784)})\n",
    "    for i in range(20):\n",
    "        print(str(np.argmax(y_pred[i])) + \" - \" + str(y_test[i]))"
   ]
  }
 ],
 "metadata": {
  "kernelspec": {
   "display_name": "Python 3",
   "language": "python",
   "name": "python3"
  },
  "language_info": {
   "codemirror_mode": {
    "name": "ipython",
    "version": 3
   },
   "file_extension": ".py",
   "mimetype": "text/x-python",
   "name": "python",
   "nbconvert_exporter": "python",
   "pygments_lexer": "ipython3",
   "version": "3.6.7"
  }
 },
 "nbformat": 4,
 "nbformat_minor": 2
}
