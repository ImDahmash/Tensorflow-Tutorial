{
 "cells": [
  {
   "cell_type": "code",
   "execution_count": 1,
   "metadata": {},
   "outputs": [],
   "source": [
    "import tensorflow as tf\n",
    "from tensorflow import keras"
   ]
  },
  {
   "cell_type": "code",
   "execution_count": 2,
   "metadata": {},
   "outputs": [],
   "source": [
    "from tensorflow.keras.datasets import mnist\n",
    "import matplotlib.pyplot as plt\n",
    "import numpy as np\n",
    "import time"
   ]
  },
  {
   "cell_type": "code",
   "execution_count": 3,
   "metadata": {},
   "outputs": [],
   "source": [
    "def conv_layer(input, size_in, size_out):\n",
    "    w = tf.Variable(tf.truncated_normal([5, 5, size_in, size_out], stddev=0.1))\n",
    "    b = tf.Variable(tf.constant(0.1, shape=[size_out]))\n",
    "    conv = tf.nn.conv2d(input, w, strides=[1, 1, 1, 1], padding=\"SAME\")\n",
    "    act = tf.nn.relu(conv + b)\n",
    "    return tf.nn.max_pool(act, ksize=[1, 2, 2, 1], strides=[1, 2, 2, 1], padding=\"SAME\")"
   ]
  },
  {
   "cell_type": "code",
   "execution_count": 4,
   "metadata": {},
   "outputs": [],
   "source": [
    "def fc_layer(input, size_in, size_out):\n",
    "    w = tf.Variable(tf.truncated_normal([size_in, size_out], stddev=0.1))\n",
    "    b = tf.Variable(tf.constant(0.1, shape=[size_out]))\n",
    "    act = tf.matmul(input, w) + b\n",
    "    return act"
   ]
  },
  {
   "cell_type": "code",
   "execution_count": 5,
   "metadata": {},
   "outputs": [],
   "source": [
    "(x_train, y_train), (x_test, y_test) = mnist.load_data()"
   ]
  },
  {
   "cell_type": "code",
   "execution_count": 6,
   "metadata": {},
   "outputs": [],
   "source": [
    "x_train = x_train.astype('float32')\n",
    "x_test = x_test.astype('float32')\n",
    "y_train = y_train.astype('int64')\n",
    "y_test = y_test.astype('int64')\n",
    "x_train /= 255\n",
    "x_test /= 255"
   ]
  },
  {
   "cell_type": "code",
   "execution_count": 7,
   "metadata": {},
   "outputs": [],
   "source": [
    "x = tf.placeholder(tf.float32, shape=[None, 784])\n",
    "x_image = tf.reshape(x, [-1, 28, 28, 1])\n",
    "\n",
    "y = tf.placeholder(tf.int64, shape=[None,])"
   ]
  },
  {
   "cell_type": "code",
   "execution_count": 8,
   "metadata": {},
   "outputs": [],
   "source": [
    "conv1 = conv_layer(x_image, 1, 32)\n",
    "conv_out = conv_layer(conv1, 32, 64)"
   ]
  },
  {
   "cell_type": "code",
   "execution_count": 9,
   "metadata": {},
   "outputs": [],
   "source": [
    "flattened = tf.reshape(conv_out, [-1, 7 * 7 * 64])"
   ]
  },
  {
   "cell_type": "code",
   "execution_count": 10,
   "metadata": {},
   "outputs": [],
   "source": [
    "fc1 = fc_layer(flattened, 7 * 7 * 64, 1024)\n",
    "relu = tf.nn.relu(fc1)"
   ]
  },
  {
   "cell_type": "code",
   "execution_count": 11,
   "metadata": {},
   "outputs": [],
   "source": [
    "logits = fc_layer(relu, 1024, 10)\n",
    "softmax = tf.nn.softmax(logits)"
   ]
  },
  {
   "cell_type": "code",
   "execution_count": 12,
   "metadata": {},
   "outputs": [],
   "source": [
    "matches = tf.equal(tf.argmax(softmax, 1), y)\n",
    "acc = tf.reduce_mean(tf.cast(matches, tf.float32))"
   ]
  },
  {
   "cell_type": "code",
   "execution_count": 13,
   "metadata": {},
   "outputs": [],
   "source": [
    "loss = tf.reduce_mean(tf.nn.sparse_softmax_cross_entropy_with_logits(logits=logits, labels=y))"
   ]
  },
  {
   "cell_type": "code",
   "execution_count": 14,
   "metadata": {},
   "outputs": [],
   "source": [
    "train_op = tf.train.AdamOptimizer(0.001).minimize(loss)"
   ]
  },
  {
   "cell_type": "code",
   "execution_count": 15,
   "metadata": {},
   "outputs": [],
   "source": [
    "init = tf.global_variables_initializer()"
   ]
  },
  {
   "cell_type": "code",
   "execution_count": 16,
   "metadata": {},
   "outputs": [],
   "source": [
    "saver = tf.train.Saver()"
   ]
  },
  {
   "cell_type": "code",
   "execution_count": 17,
   "metadata": {},
   "outputs": [
    {
     "name": "stdout",
     "output_type": "stream",
     "text": [
      "Epoch No: 1 of 5\n",
      "Loss: 0.12639795 Accuracy: 0.973\n",
      "12 Seconds\n",
      "\n",
      "\n",
      "Epoch No: 2 of 5\n",
      "Loss: 0.08459035 Accuracy: 0.985\n",
      "11 Seconds\n",
      "\n",
      "\n",
      "Epoch No: 3 of 5\n",
      "Loss: 0.06564654 Accuracy: 0.99\n",
      "11 Seconds\n",
      "\n",
      "\n",
      "Epoch No: 4 of 5\n",
      "Loss: 0.055534597 Accuracy: 0.991\n",
      "11 Seconds\n",
      "\n",
      "\n",
      "Epoch No: 5 of 5\n",
      "Loss: 0.04898935 Accuracy: 0.992\n",
      "11 Seconds\n",
      "\n",
      "\n"
     ]
    }
   ],
   "source": [
    "with tf.Session() as sess:\n",
    "    sess.run(init)\n",
    "    \n",
    "    losses = []\n",
    "    accuracies = []\n",
    "    epochs = 5\n",
    "    batch_size = 1000\n",
    "    \n",
    "    for i in range(epochs):\n",
    "        start_time = time.time()\n",
    "        \n",
    "        for curr_batch in range(len(x_train) // batch_size):\n",
    "            from_i = curr_batch * batch_size\n",
    "            to_i = (curr_batch * batch_size) + batch_size\n",
    "            \n",
    "            loss_, _, acc_ = sess.run([loss, train_op, acc],\n",
    "                                      feed_dict={x: x_train[from_i : to_i].reshape(batch_size, 784), \n",
    "                                                 y: y_train[from_i : to_i]})\n",
    "        losses.append(loss_)\n",
    "        accuracies.append(acc_)\n",
    "        print(\"Epoch No: \" + str(i + 1) + \" of \" + str(epochs))\n",
    "        print(\"Loss: \" + str(loss_) + \" Accuracy: \" + str(acc_))\n",
    "        elapsed_time = time.time() - start_time\n",
    "        print(time.strftime(\"%S\", time.gmtime(elapsed_time)) + \" Seconds\")\n",
    "        print(\"\\n\")\n",
    "        \n",
    "    saver.save(sess, \"./log/CNN_TF_with_batches.ckpt\")"
   ]
  },
  {
   "cell_type": "code",
   "execution_count": 18,
   "metadata": {},
   "outputs": [
    {
     "data": {
      "image/png": "[encoded data removed]",
      "text/plain": [
       "<Figure size 432x288 with 1 Axes>"
      ]
     },
     "metadata": {
      "needs_background": "light"
     },
     "output_type": "display_data"
    }
   ],
   "source": [
    "plt.plot(losses)\n",
    "plt.show()"
   ]
  },
  {
   "cell_type": "code",
   "execution_count": 19,
   "metadata": {},
   "outputs": [
    {
     "data": {
      "image/png": "[encoded data removed]",
      "text/plain": [
       "<Figure size 432x288 with 1 Axes>"
      ]
     },
     "metadata": {
      "needs_background": "light"
     },
     "output_type": "display_data"
    }
   ],
   "source": [
    "plt.plot(accuracies)\n",
    "plt.show()"
   ]
  },
  {
   "cell_type": "code",
   "execution_count": 20,
   "metadata": {},
   "outputs": [
    {
     "name": "stdout",
     "output_type": "stream",
     "text": [
      "INFO:tensorflow:Restoring parameters from ./log/CNN_TF_with_batches.ckpt\n",
      "7 - 7\n",
      "2 - 2\n",
      "1 - 1\n",
      "0 - 0\n",
      "4 - 4\n",
      "1 - 1\n",
      "4 - 4\n",
      "9 - 9\n",
      "5 - 5\n",
      "9 - 9\n"
     ]
    }
   ],
   "source": [
    "with tf.Session() as sess:\n",
    "    saver.restore(sess, \"./log/CNN_TF_with_batches.ckpt\")\n",
    "    \n",
    "    y_pred = sess.run(softmax, feed_dict={x: x_test[0: 10].reshape(10, 784)})\n",
    "    for i in range(10):\n",
    "        print(str(np.argmax(y_pred[i])) + \" - \" + str(y_test[i]))"
   ]
  }
 ],
 "metadata": {
  "kernelspec": {
   "display_name": "Python 3",
   "language": "python",
   "name": "python3"
  },
  "language_info": {
   "codemirror_mode": {
    "name": "ipython",
    "version": 3
   },
   "file_extension": ".py",
   "mimetype": "text/x-python",
   "name": "python",
   "nbconvert_exporter": "python",
   "pygments_lexer": "ipython3",
   "version": "3.6.7"
  }
 },
 "nbformat": 4,
 "nbformat_minor": 2
}
